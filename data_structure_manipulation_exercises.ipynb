{
 "cells": [
  {
   "cell_type": "code",
   "execution_count": 1,
   "id": "5e45f441",
   "metadata": {},
   "outputs": [],
   "source": [
    "students = [\n",
    "    {\n",
    "        \"id\": \"100001\",\n",
    "        \"student\": \"Ada Lovelace\",\n",
    "        \"coffee_preference\": \"light\",\n",
    "        \"course\": \"web development\",\n",
    "        \"grades\": [70, 91, 82, 71],\n",
    "        \"pets\": [{\"species\": \"horse\", \"age\": 8}],\n",
    "    },\n",
    "    {\n",
    "        \"id\": \"100002\",\n",
    "        \"student\": \"Thomas Bayes\",\n",
    "        \"coffee_preference\": \"medium\",\n",
    "        \"course\": \"data science\",\n",
    "        \"grades\": [75, 73, 86, 100],\n",
    "        \"pets\": [],\n",
    "    },\n",
    "    {\n",
    "        \"id\": \"100003\",\n",
    "        \"student\": \"Marie Curie\",\n",
    "        \"coffee_preference\": \"light\",\n",
    "        \"course\": \"web development\",\n",
    "        \"grades\": [70, 89, 69, 65],\n",
    "        \"pets\": [{\"species\": \"cat\", \"age\": 0}],\n",
    "    },\n",
    "    {\n",
    "        \"id\": \"100004\",\n",
    "        \"student\": \"Grace Hopper\",\n",
    "        \"coffee_preference\": \"dark\",\n",
    "        \"course\": \"data science\",\n",
    "        \"grades\": [73, 66, 83, 92],\n",
    "        \"pets\": [{\"species\": \"dog\", \"age\": 4}, {\"species\": \"cat\", \"age\": 4}],\n",
    "    },\n",
    "    {\n",
    "        \"id\": \"100005\",\n",
    "        \"student\": \"Alan Turing\",\n",
    "        \"coffee_preference\": \"dark\",\n",
    "        \"course\": \"web development\",\n",
    "        \"grades\": [78, 98, 85, 65],\n",
    "        \"pets\": [\n",
    "            {\"species\": \"horse\", \"age\": 6},\n",
    "            {\"species\": \"horse\", \"age\": 7},\n",
    "            {\"species\": \"dog\", \"age\": 5},\n",
    "        ],\n",
    "    },\n",
    "    {\n",
    "        \"id\": \"100006\",\n",
    "        \"student\": \"Rosalind Franklin\",\n",
    "        \"coffee_preference\": \"dark\",\n",
    "        \"course\": \"data science\",\n",
    "        \"grades\": [76, 70, 96, 81],\n",
    "        \"pets\": [],\n",
    "    },\n",
    "    {\n",
    "        \"id\": \"100007\",\n",
    "        \"student\": \"Elizabeth Blackwell\",\n",
    "        \"coffee_preference\": \"dark\",\n",
    "        \"course\": \"web development\",\n",
    "        \"grades\": [69, 94, 89, 86],\n",
    "        \"pets\": [{\"species\": \"cat\", \"age\": 10}],\n",
    "    },\n",
    "    {\n",
    "        \"id\": \"100008\",\n",
    "        \"student\": \"Rene Descartes\",\n",
    "        \"coffee_preference\": \"medium\",\n",
    "        \"course\": \"data science\",\n",
    "        \"grades\": [87, 79, 90, 99],\n",
    "        \"pets\": [{\"species\": \"cat\", \"age\": 10}, {\"species\": \"cat\", \"age\": 8}],\n",
    "    },\n",
    "    {\n",
    "        \"id\": \"100009\",\n",
    "        \"student\": \"Ahmed Zewail\",\n",
    "        \"coffee_preference\": \"medium\",\n",
    "        \"course\": \"data science\",\n",
    "        \"grades\": [74, 99, 93, 89],\n",
    "        \"pets\": [{\"species\": \"cat\", \"age\": 0}, {\"species\": \"cat\", \"age\": 0}],\n",
    "    },\n",
    "    {\n",
    "        \"id\": \"100010\",\n",
    "        \"student\": \"Chien-Shiung Wu\",\n",
    "        \"coffee_preference\": \"medium\",\n",
    "        \"course\": \"web development\",\n",
    "        \"grades\": [82, 92, 91, 65],\n",
    "        \"pets\": [{\"species\": \"cat\", \"age\": 8}],\n",
    "    },\n",
    "    {\n",
    "        \"id\": \"100011\",\n",
    "        \"student\": \"William Sanford Nye\",\n",
    "        \"coffee_preference\": \"dark\",\n",
    "        \"course\": \"data science\",\n",
    "        \"grades\": [70, 92, 65, 99],\n",
    "        \"pets\": [{\"species\": \"cat\", \"age\": 8}, {\"species\": \"cat\", \"age\": 5}],\n",
    "    },\n",
    "    {\n",
    "        \"id\": \"100012\",\n",
    "        \"student\": \"Carl Sagan\",\n",
    "        \"coffee_preference\": \"medium\",\n",
    "        \"course\": \"data science\",\n",
    "        \"grades\": [100, 86, 91, 87],\n",
    "        \"pets\": [{\"species\": \"cat\", \"age\": 10}],\n",
    "    },\n",
    "    {\n",
    "        \"id\": \"100013\",\n",
    "        \"student\": \"Jane Goodall\",\n",
    "        \"coffee_preference\": \"light\",\n",
    "        \"course\": \"web development\",\n",
    "        \"grades\": [80, 70, 68, 98],\n",
    "        \"pets\": [{\"species\": \"horse\", \"age\": 4}],\n",
    "    },\n",
    "    {\n",
    "        \"id\": \"100014\",\n",
    "        \"student\": \"Richard Feynman\",\n",
    "        \"coffee_preference\": \"medium\",\n",
    "        \"course\": \"web development\",\n",
    "        \"grades\": [73, 99, 86, 98],\n",
    "        \"pets\": [{\"species\": \"dog\", \"age\": 6}],\n",
    "    },\n",
    "]"
   ]
  },
  {
   "cell_type": "markdown",
   "id": "24c8770e",
   "metadata": {},
   "source": [
    "### 1. How many students are there?"
   ]
  },
  {
   "cell_type": "code",
   "execution_count": 2,
   "id": "a856984b",
   "metadata": {},
   "outputs": [
    {
     "data": {
      "text/plain": [
       "14"
      ]
     },
     "execution_count": 2,
     "metadata": {},
     "output_type": "execute_result"
    }
   ],
   "source": [
    "len(students)"
   ]
  },
  {
   "cell_type": "markdown",
   "id": "c37058dc",
   "metadata": {},
   "source": [
    "### 2. How many students prefer light coffee? For each type of coffee roast?\n"
   ]
  },
  {
   "cell_type": "code",
   "execution_count": 3,
   "id": "68aae8c3",
   "metadata": {},
   "outputs": [
    {
     "data": {
      "text/plain": [
       "3"
      ]
     },
     "execution_count": 3,
     "metadata": {},
     "output_type": "execute_result"
    }
   ],
   "source": [
    "total_light_coffee = 0\n",
    "for student in students:\n",
    "    if student['coffee_preference'] == 'light':\n",
    "        total_light_coffee += 1\n",
    "total_light_coffee"
   ]
  },
  {
   "cell_type": "code",
   "execution_count": 4,
   "id": "82222f75",
   "metadata": {},
   "outputs": [
    {
     "data": {
      "text/plain": [
       "{'light': 3, 'medium': 6, 'dark': 5}"
      ]
     },
     "execution_count": 4,
     "metadata": {},
     "output_type": "execute_result"
    }
   ],
   "source": [
    "coffee_preference = [student['coffee_preference'] for student in students]\n",
    "coffee_count = {coffee:coffee_preference.count(coffee) for coffee in coffee_preference}\n",
    "coffee_count"
   ]
  },
  {
   "cell_type": "markdown",
   "id": "7f70e1cd",
   "metadata": {},
   "source": [
    "### 3. How many types each pet are there?"
   ]
  },
  {
   "cell_type": "code",
   "execution_count": 5,
   "id": "57394e60",
   "metadata": {},
   "outputs": [
    {
     "data": {
      "text/plain": [
       "{'horse': 4, 'cat': 11, 'dog': 3}"
      ]
     },
     "execution_count": 5,
     "metadata": {},
     "output_type": "execute_result"
    }
   ],
   "source": [
    "student_pets = [student['pets'] for student in students]\n",
    "pets = []\n",
    "for student in student_pets:\n",
    "    for pet in student:\n",
    "        pets.append(pet['species'])\n",
    "pet_counts = {pet:pets.count(pet) for pet in pets}\n",
    "pet_counts"
   ]
  },
  {
   "cell_type": "markdown",
   "id": "e9543d27",
   "metadata": {},
   "source": [
    "### 4. How many grades does each student have? Do they all have the same number of grades?\n"
   ]
  },
  {
   "cell_type": "code",
   "execution_count": 6,
   "id": "d0167b80",
   "metadata": {},
   "outputs": [
    {
     "name": "stdout",
     "output_type": "stream",
     "text": [
      "[70, 91, 82, 71]\n",
      "Length = 4\n",
      "[75, 73, 86, 100]\n",
      "Length = 4\n",
      "[70, 89, 69, 65]\n",
      "Length = 4\n",
      "[73, 66, 83, 92]\n",
      "Length = 4\n",
      "[78, 98, 85, 65]\n",
      "Length = 4\n",
      "[76, 70, 96, 81]\n",
      "Length = 4\n",
      "[69, 94, 89, 86]\n",
      "Length = 4\n",
      "[87, 79, 90, 99]\n",
      "Length = 4\n",
      "[74, 99, 93, 89]\n",
      "Length = 4\n",
      "[82, 92, 91, 65]\n",
      "Length = 4\n",
      "[70, 92, 65, 99]\n",
      "Length = 4\n",
      "[100, 86, 91, 87]\n",
      "Length = 4\n",
      "[80, 70, 68, 98]\n",
      "Length = 4\n",
      "[73, 99, 86, 98]\n",
      "Length = 4\n"
     ]
    }
   ],
   "source": [
    "for student in students:\n",
    "    print(student['grades'])\n",
    "    print(f\"Length = {len(student['grades'])}\")\n",
    "    \n",
    "## Yes, they all have 4 grades."
   ]
  },
  {
   "cell_type": "markdown",
   "id": "312235ee",
   "metadata": {},
   "source": [
    "### 5. What is each student's grade average?\n"
   ]
  },
  {
   "cell_type": "code",
   "execution_count": 7,
   "id": "e548b625",
   "metadata": {},
   "outputs": [
    {
     "name": "stdout",
     "output_type": "stream",
     "text": [
      "Ada Lovelace's average grade is: 78.5\n",
      "Thomas Bayes's average grade is: 83.5\n",
      "Marie Curie's average grade is: 73.25\n",
      "Grace Hopper's average grade is: 78.5\n",
      "Alan Turing's average grade is: 81.5\n",
      "Rosalind Franklin's average grade is: 80.75\n",
      "Elizabeth Blackwell's average grade is: 84.5\n",
      "Rene Descartes's average grade is: 88.75\n",
      "Ahmed Zewail's average grade is: 88.75\n",
      "Chien-Shiung Wu's average grade is: 82.5\n",
      "William Sanford Nye's average grade is: 81.5\n",
      "Carl Sagan's average grade is: 91.0\n",
      "Jane Goodall's average grade is: 79.0\n",
      "Richard Feynman's average grade is: 89.0\n"
     ]
    }
   ],
   "source": [
    "for student in students:\n",
    "    grades = student['grades']\n",
    "    average_grade = 0\n",
    "    for grade in grades:\n",
    "        average_grade = average_grade + grade\n",
    "    average_grade = average_grade / len(grades)\n",
    "    print(f\"{student['student']}'s average grade is: {average_grade}\")\n",
    "        "
   ]
  },
  {
   "cell_type": "markdown",
   "id": "1f826176",
   "metadata": {},
   "source": [
    "### 6. How many pets does each student have?\n"
   ]
  },
  {
   "cell_type": "code",
   "execution_count": 8,
   "id": "0d87be50",
   "metadata": {},
   "outputs": [
    {
     "name": "stdout",
     "output_type": "stream",
     "text": [
      "Ada Lovelace has 1 pets.\n",
      "Thomas Bayes has 0 pets.\n",
      "Marie Curie has 1 pets.\n",
      "Grace Hopper has 2 pets.\n",
      "Alan Turing has 3 pets.\n",
      "Rosalind Franklin has 0 pets.\n",
      "Elizabeth Blackwell has 1 pets.\n",
      "Rene Descartes has 2 pets.\n",
      "Ahmed Zewail has 2 pets.\n",
      "Chien-Shiung Wu has 1 pets.\n",
      "William Sanford Nye has 2 pets.\n",
      "Carl Sagan has 1 pets.\n",
      "Jane Goodall has 1 pets.\n",
      "Richard Feynman has 1 pets.\n"
     ]
    }
   ],
   "source": [
    "for student in students:\n",
    "    print(f\"{student['student']} has {len(student['pets'])} pets.\")"
   ]
  },
  {
   "cell_type": "markdown",
   "id": "04ee8082",
   "metadata": {},
   "source": [
    "### 7. How many students are in web development? data science?\n"
   ]
  },
  {
   "cell_type": "code",
   "execution_count": 9,
   "id": "e7b6f633",
   "metadata": {},
   "outputs": [
    {
     "name": "stdout",
     "output_type": "stream",
     "text": [
      "Web development has 7 students. \n",
      "Data science has 7 students\n"
     ]
    }
   ],
   "source": [
    "web_dev_total = 0\n",
    "data_science_total = 0\n",
    "for student in students:\n",
    "    if student['course'] == 'web development':\n",
    "        web_dev_total += 1\n",
    "    elif student['course'] == 'data science':\n",
    "        data_science_total += 1\n",
    "print(f\"Web development has {web_dev_total} students. \\nData science has {data_science_total} students\")"
   ]
  },
  {
   "cell_type": "markdown",
   "id": "07601682",
   "metadata": {},
   "source": [
    "### 8. What is the average number of pets for students in web development?\n"
   ]
  },
  {
   "cell_type": "code",
   "execution_count": 10,
   "id": "c5421e3c",
   "metadata": {},
   "outputs": [
    {
     "name": "stdout",
     "output_type": "stream",
     "text": [
      "1.2857142857142858\n",
      "1\n"
     ]
    }
   ],
   "source": [
    "web_dev_pets = []\n",
    "for student in students:\n",
    "    if student['course'] == 'web development':\n",
    "        web_dev_pets.append(student['pets'])\n",
    "\n",
    "total_web_dev_pets = 0\n",
    "for student in web_dev_pets:\n",
    "    total_web_dev_pets += len(student)\n",
    "average_web_dev_pets = total_web_dev_pets / web_dev_total\n",
    "print(average_web_dev_pets)\n",
    "print(round(average_web_dev_pets))\n"
   ]
  },
  {
   "cell_type": "markdown",
   "id": "8744161d",
   "metadata": {},
   "source": [
    "### 9. What is the average pet age for students in data science?\n"
   ]
  },
  {
   "cell_type": "code",
   "execution_count": 27,
   "id": "fb148f96",
   "metadata": {},
   "outputs": [
    {
     "data": {
      "text/plain": [
       "5.444444444444445"
      ]
     },
     "execution_count": 27,
     "metadata": {},
     "output_type": "execute_result"
    }
   ],
   "source": [
    "data_sci_pets = []\n",
    "for student in students:\n",
    "    if student['course'] == 'data science':\n",
    "        data_sci_pets.append(student['pets'])\n",
    "data_sci_pets = [pets for pets in data_sci_pets if pets != []]\n",
    "\n",
    "total_age = 0\n",
    "total_pets = 0\n",
    "for student in data_sci_pets:\n",
    "    for pet in student:\n",
    "        total_age += pet['age']\n",
    "        total_pets += 1\n",
    "average_age = total_age / total_pets\n",
    "average_age"
   ]
  },
  {
   "cell_type": "markdown",
   "id": "cc073a75",
   "metadata": {},
   "source": [
    "### 10. What is most frequent coffee preference for data science students?\n"
   ]
  },
  {
   "cell_type": "code",
   "execution_count": 32,
   "id": "a73151cf",
   "metadata": {},
   "outputs": [
    {
     "data": {
      "text/plain": [
       "{'light': 0, 'medium': 4, 'dark': 3}"
      ]
     },
     "execution_count": 32,
     "metadata": {},
     "output_type": "execute_result"
    }
   ],
   "source": [
    "data_science_coffee = []\n",
    "for student in students:\n",
    "    if student['course'] == 'data science':\n",
    "        data_science_coffee.append(student['coffee_preference'])\n",
    "data_science_coffee\n",
    "\n",
    "ds_light_total = 0\n",
    "ds_medium_total = 0\n",
    "ds_dark_total = 0\n",
    "for coffee in data_science_coffee:\n",
    "    if coffee == 'light':\n",
    "        ds_light_total += 1\n",
    "    elif coffee == 'medium':\n",
    "        ds_medium_total += 1\n",
    "    else:\n",
    "        ds_dark_total += 1\n",
    "ds_coffee_totals = {'light':ds_light_total, 'medium':ds_medium_total, 'dark':ds_dark_total}\n",
    "ds_coffee_totals"
   ]
  },
  {
   "cell_type": "markdown",
   "id": "ca41d585",
   "metadata": {},
   "source": [
    "### 11. What is the least frequent coffee preference for web development students?\n"
   ]
  },
  {
   "cell_type": "code",
   "execution_count": 34,
   "id": "0e112a1a",
   "metadata": {},
   "outputs": [
    {
     "data": {
      "text/plain": [
       "{'light': 3, 'medium': 2, 'dark': 2}"
      ]
     },
     "execution_count": 34,
     "metadata": {},
     "output_type": "execute_result"
    }
   ],
   "source": [
    "web_development_coffee = []\n",
    "for student in students:\n",
    "    if student['course'] == 'web development':\n",
    "        web_development_coffee.append(student['coffee_preference'])\n",
    "\n",
    "wd_light_total = 0\n",
    "wd_medium_total = 0\n",
    "wd_dark_total = 0\n",
    "for coffee in web_development_coffee:\n",
    "    if coffee == 'light':\n",
    "        wd_light_total += 1\n",
    "    elif coffee == 'medium':\n",
    "        wd_medium_total += 1\n",
    "    else:\n",
    "        wd_dark_total += 1\n",
    "wd_coffee_totals = {'light':wd_light_total, 'medium':wd_medium_total, 'dark':wd_dark_total}\n",
    "wd_coffee_totals"
   ]
  },
  {
   "cell_type": "markdown",
   "id": "aa256bbe",
   "metadata": {},
   "source": [
    "### 12. What is the average grade for students with at least 2 pets?\n"
   ]
  },
  {
   "cell_type": "code",
   "execution_count": 44,
   "id": "934ce44a",
   "metadata": {},
   "outputs": [
    {
     "data": {
      "text/plain": [
       "335.2"
      ]
     },
     "execution_count": 44,
     "metadata": {},
     "output_type": "execute_result"
    }
   ],
   "source": [
    "students_with_at_least_two_pets = []\n",
    "for student in students:\n",
    "    if len(student['pets']) >= 2:\n",
    "        students_with_at_least_two_pets.append(student)\n",
    "        \n",
    "grades_for_students_with_at_least_two_pets = []\n",
    "for student in students_with_at_least_two_pets:\n",
    "    grades_for_students_with_at_least_two_pets.append(student['grades'])\n",
    "\n",
    "grades_for_students_with_at_least_two_pets\n",
    "grade_total = 0\n",
    "for student in grades_for_students_with_at_least_two_pets:\n",
    "    for grade in student:\n",
    "        grade_total += grade\n",
    "average_grade_for_students_with_two_pets = grade_total / len(grades_for_students_with_at_least_two_pets)\n",
    "average_grade_for_students_with_two_pets"
   ]
  },
  {
   "cell_type": "code",
   "execution_count": null,
   "id": "098d7345",
   "metadata": {},
   "outputs": [],
   "source": []
  }
 ],
 "metadata": {
  "kernelspec": {
   "display_name": "Python 3",
   "language": "python",
   "name": "python3"
  },
  "language_info": {
   "codemirror_mode": {
    "name": "ipython",
    "version": 3
   },
   "file_extension": ".py",
   "mimetype": "text/x-python",
   "name": "python",
   "nbconvert_exporter": "python",
   "pygments_lexer": "ipython3",
   "version": "3.8.8"
  }
 },
 "nbformat": 4,
 "nbformat_minor": 5
}
