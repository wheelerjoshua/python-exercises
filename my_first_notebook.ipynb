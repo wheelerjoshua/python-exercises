{
 "cells": [
  {
   "cell_type": "code",
   "execution_count": 1,
   "id": "4e445265",
   "metadata": {},
   "outputs": [
    {
     "name": "stdout",
     "output_type": "stream",
     "text": [
      "Hello, World!\n"
     ]
    }
   ],
   "source": [
    "print('Hello, World!')"
   ]
  },
  {
   "cell_type": "code",
   "execution_count": 2,
   "id": "41a3f9b1",
   "metadata": {},
   "outputs": [],
   "source": [
    "greeting = 'Hello!'"
   ]
  },
  {
   "cell_type": "code",
   "execution_count": 4,
   "id": "daaadee2",
   "metadata": {},
   "outputs": [
    {
     "name": "stdout",
     "output_type": "stream",
     "text": [
      "Hello!\n"
     ]
    }
   ],
   "source": [
    "print(greeting)"
   ]
  },
  {
   "cell_type": "code",
   "execution_count": 1,
   "id": "60362a57",
   "metadata": {},
   "outputs": [],
   "source": [
    "# to run cells use shift + return\n",
    "# use esc to enter command mode\n",
    "# in command mode, type A to create a cell above, B a cell below, and D D to delete a cell\n",
    "# use command + s to save the notebook\n",
    "# in the terminal use control + c to shut down the notebook server. Type jupyter notebook in the terminal to open it again."
   ]
  },
  {
   "cell_type": "code",
   "execution_count": null,
   "id": "5102f7d9",
   "metadata": {},
   "outputs": [],
   "source": []
  }
 ],
 "metadata": {
  "kernelspec": {
   "display_name": "Python 3",
   "language": "python",
   "name": "python3"
  },
  "language_info": {
   "codemirror_mode": {
    "name": "ipython",
    "version": 3
   },
   "file_extension": ".py",
   "mimetype": "text/x-python",
   "name": "python",
   "nbconvert_exporter": "python",
   "pygments_lexer": "ipython3",
   "version": "3.8.8"
  }
 },
 "nbformat": 4,
 "nbformat_minor": 5
}
