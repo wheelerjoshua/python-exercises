{
 "cells": [
  {
   "cell_type": "code",
   "execution_count": null,
   "id": "ff0ddd9f",
   "metadata": {},
   "outputs": [],
   "source": [
    "# Defines function with a single parameter that checks if a number or string is 2, returning a boolean value accordingly\n",
    "def is_two(x):\n",
    "    # Checks if the passed argument is a 2 while converting any string '2' into an integer.\n",
    "    if int(x) == 2:\n",
    "        # If argument is 2 or '2', returns true\n",
    "        return True\n",
    "    # If argument is not 2 or '2', returns false\n",
    "    else:\n",
    "        return False\n",
    "\n",
    "\n",
    "is_two(2)\n",
    "is_two('2')\n",
    "is_two('3')\n",
    "is_two(3)\n"
   ]
  },
  {
   "cell_type": "markdown",
   "id": "471f0b87",
   "metadata": {},
   "source": [
    "Passing arguments through this function will return True or False depending on if the argument is equal to 2. The function converts strings temporarily into an integer during this check. Passing 2 and '2' through the function returns a True statement, while anything else, such as 3 or '3', will return False."
   ]
  },
  {
   "cell_type": "code",
   "execution_count": 7,
   "id": "16637fc7",
   "metadata": {},
   "outputs": [
    {
     "data": {
      "text/plain": [
       "False"
      ]
     },
     "execution_count": 7,
     "metadata": {},
     "output_type": "execute_result"
    }
   ],
   "source": [
    "# Defines a function that passes a single string parameter and returns a boolean value.\n",
    "def is_vowel(x):\n",
    "    # Temporary sets the argument in lowercase and checks if it is within a list of defined vowels\n",
    "    if x.lower() in ['a','e','i','o','u']:\n",
    "        # If the argument is in the list, True is returned\n",
    "        return True\n",
    "    # If the argument is not in the list, False is returned\n",
    "    else:\n",
    "        return False\n",
    "\n",
    "    \n",
    "is_vowel('E')\n",
    "is_vowel('a')\n",
    "is_vowel('B')\n",
    "is_vowel('zed')\n",
    "is_vowel('Utopia')"
   ]
  },
  {
   "cell_type": "markdown",
   "id": "f2e80311",
   "metadata": {},
   "source": [
    "The function takes in a single character string and returns True or False depending on if the argument being passed is within a list of vowels. The argument is temporarily set in lowercase to reduce the size of the list needed to check for potentially capitalized arguments. Multicharacters strings will return False."
   ]
  },
  {
   "cell_type": "code",
   "execution_count": 8,
   "id": "46979230",
   "metadata": {},
   "outputs": [
    {
     "data": {
      "text/plain": [
       "True"
      ]
     },
     "execution_count": 8,
     "metadata": {},
     "output_type": "execute_result"
    }
   ],
   "source": [
    "# Defines a function taking in a single string and returns a boolean value.\n",
    "def is_consonant(x):\n",
    "    # Utilizes previously defined function is_vowel to check if the argument passed is a vowel. If the argument is\n",
    "    # not a vowel, False is returned. If False is returned, the argument is a consonant and returns True.\n",
    "    if is_vowel(x) == False:\n",
    "        return True\n",
    "    # If the arguement passed is a vowel, the is_vowel returns True and will return a False statement\n",
    "    else:\n",
    "        return False\n",
    "\n",
    "is_consonant('Y')\n",
    "is_consonant('x')\n",
    "is_consonant('')"
   ]
  },
  {
   "cell_type": "markdown",
   "id": "0da7a3c2",
   "metadata": {},
   "source": [
    "This function utilizes the previously defined is_vowel function, passing an argument to it to retrieve a True or False value. A False value from the is_vowel means the argument is a consonant and will return a True value."
   ]
  },
  {
   "cell_type": "code",
   "execution_count": 10,
   "id": "7c95a941",
   "metadata": {},
   "outputs": [
    {
     "data": {
      "text/plain": [
       "'Bear'"
      ]
     },
     "execution_count": 10,
     "metadata": {},
     "output_type": "execute_result"
    }
   ],
   "source": [
    "# Defines a function that takes in a string, preferably a single word, and returns a string.\n",
    "def capitalize_word_starting_consonant(word):\n",
    "    # This exploratory line of code is to ensure that any leading white space will not interrupt the capitalization\n",
    "    word = word.strip()\n",
    "    # The first character in the argument is passed through the is_consonant function and if it is returned True\n",
    "    # the word is capitalized and returned.\n",
    "    if is_consonant(word[0]):\n",
    "        return word.capitalize()\n",
    "\n",
    "capitalize_word_starting_consonant('python')\n",
    "capitalize_word_starting_consonant('otis')\n",
    "capitalize_word_starting_consonant('character')\n",
    "capitalize_word_starting_consonant('Bear')"
   ]
  },
  {
   "cell_type": "markdown",
   "id": "db1ea63a",
   "metadata": {},
   "source": [
    "This function utilizes the is_consonant function to check if the first character in the argument is a consonant. If this returns True, the word is capitalized."
   ]
  },
  {
   "cell_type": "code",
   "execution_count": 1,
   "id": "2ec7cf21",
   "metadata": {},
   "outputs": [
    {
     "data": {
      "text/plain": [
       "4.58"
      ]
     },
     "execution_count": 1,
     "metadata": {},
     "output_type": "execute_result"
    }
   ],
   "source": [
    "# Defines a function that takes in two numbers, either both float or a float and an integer, and returns a float\n",
    "def calculate_tip(percentage, bill_total):\n",
    "    # This checks if the argument passed for percentage is valid, a decimal between 0.0 and 1.0\n",
    "    if 0 <= percentage <= 1:\n",
    "        # Calculates the tip by multiplying the bill_total and percentage arguments and adding it to the bill_total\n",
    "        # this value is then returned. In case of longer decimal values, the total is rounded to the second decimal\n",
    "        return round((percentage * bill_total), 2)\n",
    "    \n",
    "    \n",
    "calculate_tip(0.20, 20)\n",
    "calculate_tip(0.15, 30)\n",
    "calculate_tip(30, 0.15)\n",
    "calculate_tip(bill_total=30.50, percentage=0.15)"
   ]
  },
  {
   "cell_type": "markdown",
   "id": "c92e6620",
   "metadata": {},
   "source": [
    "This function is used to calculate a tip passing two arguments that are the desired percentage and the bill_total. These may both be float values, but the percentage must be a float. The function checks if the percentage passed is a reasonable tip amount between 0 and 1 then multiplies the percentage and the bill_total together and adds it to the bill_total to return the bill and tip totaled together. This number is rounded to the second decimal due to this being used for monetary transactions."
   ]
  },
  {
   "cell_type": "code",
   "execution_count": 21,
   "id": "523922df",
   "metadata": {},
   "outputs": [
    {
     "data": {
      "text/plain": [
       "-6.75"
      ]
     },
     "execution_count": 21,
     "metadata": {},
     "output_type": "execute_result"
    }
   ],
   "source": [
    "# Defines function that takes in two numbers, at least one is a float, and returns a float.\n",
    "def apply_discount(original_price, discount_percent):\n",
    "    # Returns the value of the discounted price, which is calculated by the \n",
    "    # original_price being multiplied by the discount_percent being subtracted from the original_price\n",
    "    return original_price - (original_price * discount_percent)\n",
    "\n",
    "apply_discount(100,.25)\n",
    "apply_discount(50, .10)\n",
    "apply_discount(.75, 10)"
   ]
  },
  {
   "cell_type": "markdown",
   "id": "4d92d626",
   "metadata": {},
   "source": [
    "This function is used to apply a discount, subtracting the discounted price from the original price. The discounted price is calculated by multiplying the discount_percentage and the original_price. The discounted price is returned. Mixing up the discount and the price when passing them to the function results in a negative number."
   ]
  },
  {
   "cell_type": "code",
   "execution_count": 2,
   "id": "05adc47d",
   "metadata": {},
   "outputs": [],
   "source": [
    "# Defines a function that takes in a string and returns a float\n",
    "def handle_commas(number):\n",
    "    # Defines a variable that is the passed argument with the commas being replaced by an empty string, removing the commas\n",
    "    clean_number = number.replace(',','')\n",
    "    # The clean_number is returned as a float\n",
    "    return float(clean_number)"
   ]
  },
  {
   "cell_type": "code",
   "execution_count": null,
   "id": "58c073d5",
   "metadata": {},
   "outputs": [],
   "source": [
    "total = 0"
   ]
  },
  {
   "cell_type": "markdown",
   "id": "bfbb743f",
   "metadata": {},
   "source": [
    "This function passes a string of a number with commas and removes the commas by replacing the commas with an empty string. The resulting string is returned converted into an integer."
   ]
  },
  {
   "cell_type": "code",
   "execution_count": 25,
   "id": "7868797f",
   "metadata": {},
   "outputs": [
    {
     "data": {
      "text/plain": [
       "'D'"
      ]
     },
     "execution_count": 25,
     "metadata": {},
     "output_type": "execute_result"
    }
   ],
   "source": [
    "# Defines function that takes in an integer or float and returns a string\n",
    "def get_letter_grade(grade):\n",
    "    # if and elif statements checking the grade and returning the appropriate letter grade as a string.\n",
    "    if grade >= 90:\n",
    "        return 'A'\n",
    "    elif grade >= 80:\n",
    "        return 'B'\n",
    "    elif grade >= 70:\n",
    "        return 'C'\n",
    "    elif grade >= 60:\n",
    "        return 'D'\n",
    "    else:\n",
    "        return 'F'\n",
    "\n",
    "get_letter_grade(70)\n",
    "get_letter_grade(77)\n",
    "get_letter_grade(60.5)"
   ]
  },
  {
   "cell_type": "markdown",
   "id": "f4837742",
   "metadata": {},
   "source": [
    "This function takes in a defined number grade, either an int or a float, and returns its corresponding letter grade as a string. It does this by passing the number provided through a series of if statements, returning what letter grade is in the if statement that is True. "
   ]
  },
  {
   "cell_type": "code",
   "execution_count": 27,
   "id": "46f2f430",
   "metadata": {},
   "outputs": [
    {
     "data": {
      "text/plain": [
       "'bbbbb'"
      ]
     },
     "execution_count": 27,
     "metadata": {},
     "output_type": "execute_result"
    }
   ],
   "source": [
    "# Defines a function that takes in a string and returns a string\n",
    "def remove_vowels(to_remove):\n",
    "    # defines a new variable with an empty string\n",
    "    new_string = ''\n",
    "    # For loop that checks each character in the string\n",
    "    for character in to_remove:\n",
    "        # Checks if each character is a vowel using the is_vowel function\n",
    "        if is_vowel(character) == False:\n",
    "            # if the character is not a vowel, it is added to the new_string\n",
    "            new_string += character\n",
    "    return new_string\n",
    "        \n",
    "\n",
    "remove_vowels('alphabet soup')\n",
    "remove_vowels('aaaaa')\n",
    "remove_vowels('bbbbb')"
   ]
  },
  {
   "cell_type": "markdown",
   "id": "92e34ba6",
   "metadata": {},
   "source": [
    "This function takes in a string and returns a string with the vowels removed. This is accomplished by creating a new_string variable with an empty string and a for loop that checks if each character in the argument is a vowel using the is_vowel function. If the character is not a vowel, it is added to the new_string. The new_string is returned. A string of vowels returns an empty string."
   ]
  },
  {
   "cell_type": "code",
   "execution_count": 1,
   "id": "d5dcb0c8",
   "metadata": {},
   "outputs": [
    {
     "data": {
      "text/plain": [
       "'true'"
      ]
     },
     "execution_count": 1,
     "metadata": {},
     "output_type": "execute_result"
    }
   ],
   "source": [
    "# List to define the alphabet\n",
    "alphabet = ['a','b','c','d','e','f','g','h','i','j','k','l','m','n','o','p','q','r','s','t','u','v','w','x','y','z']\n",
    "\n",
    "# Defines function that takes in a string and returns a string\n",
    "def normalize_name(name):\n",
    "    # While loop ensures first character is a letter\n",
    "    while name[0].isalpha() == False:\n",
    "        name = name[1:]\n",
    "    # Defines a variable with an empty string\n",
    "    new_name = ''\n",
    "    # Loop that will pass each character in the original string\n",
    "    for character in name:\n",
    "        # if the character is in the alphabet or a space, it is added to the new string.\n",
    "        if character.lower() in alphabet or character == ' ':\n",
    "            new_name += character.lower()\n",
    "    # Strips the new_name string of any trailing white spaces\n",
    "    new_name = new_name.strip()\n",
    "    # Loop that checks each character in the new_string\n",
    "    for character in new_name:\n",
    "        # If the character in the new_string is a space, it is replaced with an underscore\n",
    "        if character == ' ':\n",
    "            new_name = new_name.replace(' ','_')\n",
    "    # the new_name string is returned    \n",
    "    return new_name\n",
    "\n",
    "normalize_name('Name')\n",
    "normalize_name('First Name')\n",
    "normalize_name('% Completed')\n",
    "normalize_name('13_this is A VALID python IDenTiFIER')\n",
    "normalize_name('True')"
   ]
  },
  {
   "cell_type": "markdown",
   "id": "cb0e4f87",
   "metadata": {},
   "source": [
    "This function normalizes names, passing a string and returning a string. Each character in the argument is checked to see if they are in the alphabet or a space and is added to an empty new_string variable. This variable is then stripped of leading or trailing white spaces and passed through another for loop to check each character for any remaining spaces. These are then replaced with an underscore and the new_name string is returned."
   ]
  },
  {
   "cell_type": "code",
   "execution_count": 28,
   "id": "efdf1640",
   "metadata": {},
   "outputs": [
    {
     "data": {
      "text/plain": [
       "[1, 3, 6, 10]"
      ]
     },
     "execution_count": 28,
     "metadata": {},
     "output_type": "execute_result"
    }
   ],
   "source": [
    "# Defines function that takes in a list and returns a list.\n",
    "def cumulative_sum(numbers):\n",
    "    # Creates a new empty list\n",
    "    new_numbers = []\n",
    "    # Defines a total to track, starting from 0\n",
    "    total = 0\n",
    "    # for loop that passes each number in the list\n",
    "    for n in numbers:\n",
    "        # adds each number to the total\n",
    "        total += n\n",
    "        # appends the total to the empty list new_numbers\n",
    "        new_numbers.append(total)\n",
    "    # returns the new list with a cumulative sum of the numbers in the list passed as the argument    \n",
    "    return new_numbers\n",
    "\n",
    "cumulative_sum([1,1,1])\n",
    "cumulative_sum([1,2,3,4])"
   ]
  },
  {
   "cell_type": "markdown",
   "id": "5fc13977",
   "metadata": {},
   "source": [
    "This function takes in a list and returns a list. The function adds up numbers in a list, creating a list of the cumulative sums, giving the total for each number in the list."
   ]
  },
  {
   "cell_type": "markdown",
   "id": "84c2b674",
   "metadata": {},
   "source": [
    "### Bonus"
   ]
  },
  {
   "cell_type": "code",
   "execution_count": 71,
   "id": "d9157c8b",
   "metadata": {},
   "outputs": [
    {
     "data": {
      "text/plain": [
       "'01:00'"
      ]
     },
     "execution_count": 71,
     "metadata": {},
     "output_type": "execute_result"
    }
   ],
   "source": [
    "# Define function that takes in a string and returns a string\n",
    "def twelveto24(time):\n",
    "    # Defines variable with empty string\n",
    "    converted = ''\n",
    "    # for loop that checks each character in argument\n",
    "    for char in time:\n",
    "        # if the character is a number it is added to the variable converted\n",
    "        if char.isnumeric():\n",
    "            converted += char\n",
    "        # if the character is a p (for 'pm'), 1200 is added to the time\n",
    "        elif char == 'p':\n",
    "            # 1200 is added to the time by converting the string into \n",
    "            # an integer then adding 1200 and then converting back into\n",
    "            # a string.\n",
    "            converted = str(int(converted) + 1200)\n",
    "    # Checks if the time is a (for 'am') and less than 10:00am (1000 converted)\n",
    "    if time[-2] == 'a' and int(converted) < 1000:\n",
    "        #adds a leading 0 to fulfill the 24 hour format 0123 in the first 9 hours\n",
    "        converted = '0' + converted\n",
    "    # Checks if time has reached the next day, converting '24' into '00'\n",
    "    if converted[:2] == '24':\n",
    "        converted = converted.replace('24','00')\n",
    "    converted = converted[:2]+':'+converted[2:]\n",
    "    # returns completed converted time in 24hr format\n",
    "    return converted\n",
    "    \n",
    "    \n",
    "twelveto24('10:45pm')\n",
    "twelveto24('12:00pm')\n",
    "twelveto24('1:00am')\n",
    "twelveto24('10:45am')\n",
    "        "
   ]
  },
  {
   "cell_type": "code",
   "execution_count": 69,
   "id": "73cbc192",
   "metadata": {},
   "outputs": [
    {
     "data": {
      "text/plain": [
       "'11:45pm'"
      ]
     },
     "execution_count": 69,
     "metadata": {},
     "output_type": "execute_result"
    }
   ],
   "source": [
    "# Defines function that passes a string and returns a string\n",
    "def twentyfourtotwelve(time):\n",
    "    # Stores argument into an integer\n",
    "    time_int = int(time)\n",
    "    # creates an empty string\n",
    "    converted = ''\n",
    "    # for use in future if statement to convert between am/pm\n",
    "    is_pm = False\n",
    "    # If time is after noon, subtract 1200 to give the correct 12hr hour\n",
    "    # changes is_pm to True\n",
    "    if time_int > 1200:\n",
    "        time_int = time_int - 1200\n",
    "        is_pm = True\n",
    "    # for loop to add every character of the altered time into the string\n",
    "    for char in str(time_int):\n",
    "        converted += char\n",
    "    # If it is in the afternoon, add 'pm'\n",
    "    if is_pm == True:\n",
    "        converted += 'pm'\n",
    "    # If it is in the morning, add 'am'\n",
    "    else:\n",
    "        converted += 'am'\n",
    "    # If it is a time between 1-9, adds the colon in the proper place\n",
    "    if len(converted) == 5:\n",
    "        converted = converted[:1] + ':' + converted[1:]\n",
    "    # If it is a time between 10-12, adds colon in proper place\n",
    "    else:\n",
    "        converted = converted[:2] + ':' + converted[2:]\n",
    "    # return converted time in 12hr format\n",
    "    return converted\n",
    "    \n",
    "twentyfourtotwelve('0100')\n",
    "twentyfourtotwelve('1400')\n",
    "twentyfourtotwelve('2345')"
   ]
  },
  {
   "cell_type": "markdown",
   "id": "117a4c56",
   "metadata": {},
   "source": [
    "Create a function named col_index. It should accept a spreadsheet column name, and return the index number of the column.\n",
    "col_index('A') returns 1\n",
    "col_index('B') returns 2\n",
    "col_index('AA') returns 27"
   ]
  },
  {
   "cell_type": "code",
   "execution_count": 83,
   "id": "270fa433",
   "metadata": {},
   "outputs": [
    {
     "data": {
      "text/plain": [
       "703"
      ]
     },
     "execution_count": 83,
     "metadata": {},
     "output_type": "execute_result"
    }
   ],
   "source": [
    "# Defines function that passes a string and returns an int\n",
    "def col_index(column):\n",
    "    # Define variable for the number\n",
    "    number = 0\n",
    "    # Checks each character in the argument passed\n",
    "    for char in column:\n",
    "        # Makes sure the character is a letter\n",
    "        if char.isalpha():\n",
    "            # Calculates the difference in unicode characters and adds 1 (spreadsheet base is 1)\n",
    "            # Loop ensures multiple characters in argument get multiplied by the previous result as\n",
    "            # the alphabet has been looped through that many times.\n",
    "            number = number * 26 + (ord(char.upper()) - ord('A')) + 1\n",
    "    return number\n",
    "\n",
    "col_index('A')\n",
    "col_index('B')\n",
    "col_index('AA')\n",
    "col_index('AAA')"
   ]
  }
 ],
 "metadata": {
  "kernelspec": {
   "display_name": "Python 3",
   "language": "python",
   "name": "python3"
  },
  "language_info": {
   "codemirror_mode": {
    "name": "ipython",
    "version": 3
   },
   "file_extension": ".py",
   "mimetype": "text/x-python",
   "name": "python",
   "nbconvert_exporter": "python",
   "pygments_lexer": "ipython3",
   "version": "3.8.8"
  }
 },
 "nbformat": 4,
 "nbformat_minor": 5
}
