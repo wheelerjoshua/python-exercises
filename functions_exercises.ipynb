{
 "cells": [
  {
   "cell_type": "code",
   "execution_count": null,
   "id": "ff0ddd9f",
   "metadata": {},
   "outputs": [],
   "source": [
    "def is_two(x):\n",
    "    if int(x) == 2:\n",
    "        return True\n",
    "    else:\n",
    "        return False\n",
    "\n",
    "is_two('2')"
   ]
  },
  {
   "cell_type": "code",
   "execution_count": null,
   "id": "16637fc7",
   "metadata": {},
   "outputs": [],
   "source": [
    "def is_vowel(x):\n",
    "    if x.lower() in ['a','e','i','o','u']:\n",
    "        return True\n",
    "    else:\n",
    "        return False\n",
    "\n",
    "    \n",
    "is_vowel('E')"
   ]
  },
  {
   "cell_type": "code",
   "execution_count": null,
   "id": "46979230",
   "metadata": {},
   "outputs": [],
   "source": [
    "def is_consonant(x):\n",
    "    if x.lower() not in ['a','e','i','o','u']:\n",
    "        return True\n",
    "    else:\n",
    "        return False\n",
    "\n",
    "is_consonant('Y')"
   ]
  },
  {
   "cell_type": "code",
   "execution_count": null,
   "id": "7c95a941",
   "metadata": {},
   "outputs": [],
   "source": [
    "def capitalize_word_starting_consonant(word):\n",
    "    if word[0] not in ['a','e','i','o','u']:\n",
    "        capitalized_word = word.capitalize()\n",
    "        return capitalized_word\n",
    "capitalize_word_starting_consonant('python')"
   ]
  },
  {
   "cell_type": "code",
   "execution_count": null,
   "id": "2ec7cf21",
   "metadata": {},
   "outputs": [],
   "source": [
    "def calculate_tip(percentage, bill_total):\n",
    "    if 0 <= percentage <= 1:\n",
    "        tip = (percentage * bill_total) + bill_total\n",
    "        return tip\n",
    "\n",
    "calculate_tip(0.20, 20)"
   ]
  },
  {
   "cell_type": "code",
   "execution_count": null,
   "id": "523922df",
   "metadata": {},
   "outputs": [],
   "source": [
    "def apply_discount(original_price, discount_percent):\n",
    "    discounted_price = original_price - (original_price * discount_percent)\n",
    "    return discounted_price\n",
    "\n",
    "apply_discount(100,.25)"
   ]
  },
  {
   "cell_type": "code",
   "execution_count": null,
   "id": "05adc47d",
   "metadata": {},
   "outputs": [],
   "source": [
    "def handle_commas(number):\n",
    "    clean_number = number.replace(',','')\n",
    "    return int(clean_number)\n",
    "\n",
    "handle_commas('1,000,000')"
   ]
  },
  {
   "cell_type": "code",
   "execution_count": null,
   "id": "7868797f",
   "metadata": {},
   "outputs": [],
   "source": [
    "def get_letter_grade(grade):\n",
    "    if grade >= 90:\n",
    "        return 'A'\n",
    "    elif grade >= 80:\n",
    "        return 'B'\n",
    "    elif grade >= 70:\n",
    "        return 'C'\n",
    "    elif grade >= 60:\n",
    "        return 'D'\n",
    "    else:\n",
    "        return 'F'\n",
    "\n",
    "get_letter_grade(70)"
   ]
  },
  {
   "cell_type": "code",
   "execution_count": null,
   "id": "46f2f430",
   "metadata": {},
   "outputs": [],
   "source": [
    "def remove_vowels(to_remove):\n",
    "    new_string = ''\n",
    "    for character in to_remove:\n",
    "        if character not in ['a','e','i','o','u']:\n",
    "            new_string += character\n",
    "    return new_string\n",
    "        \n",
    "\n",
    "remove_vowels('alphabet')"
   ]
  },
  {
   "cell_type": "code",
   "execution_count": null,
   "id": "d5dcb0c8",
   "metadata": {},
   "outputs": [],
   "source": [
    "alphabet = ['a','b','c','d','e','f','g','h','i','j','k','l','m','n','o','p','q','r','s','t','u','v','w','x','y','z']\n",
    "\n",
    "def normalize_name(name):\n",
    "    new_name = ''\n",
    "    if name[0] or name[-1]:\n",
    "        name = name.strip()\n",
    "    for character in name:\n",
    "        if character.lower() in alphabet:\n",
    "            new_name += character.lower()    \n",
    "        elif character == ' ':\n",
    "            new_name += character.replace(' ','_')\n",
    "    return new_name\n",
    "\n",
    "normalize_name('Name')\n",
    "normalize_name('First Name')\n",
    "normalize_name('% Completed')"
   ]
  },
  {
   "cell_type": "code",
   "execution_count": null,
   "id": "efdf1640",
   "metadata": {},
   "outputs": [],
   "source": [
    "def cumulative_sum(numbers):\n",
    "    new_numbers = []\n",
    "    for n in numbers:\n",
    "        new_numbers.append(numbers[n])\n",
    "    return new_numbers\n",
    "cumulative_sum([1,1,1])"
   ]
  },
  {
   "cell_type": "code",
   "execution_count": null,
   "id": "83fa16eb",
   "metadata": {},
   "outputs": [],
   "source": []
  }
 ],
 "metadata": {
  "kernelspec": {
   "display_name": "Python 3",
   "language": "python",
   "name": "python3"
  },
  "language_info": {
   "codemirror_mode": {
    "name": "ipython",
    "version": 3
   },
   "file_extension": ".py",
   "mimetype": "text/x-python",
   "name": "python",
   "nbconvert_exporter": "python",
   "pygments_lexer": "ipython3",
   "version": "3.8.8"
  }
 },
 "nbformat": 4,
 "nbformat_minor": 5
}
